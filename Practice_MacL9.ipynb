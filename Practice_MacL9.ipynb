{
 "cells": [
  {
   "cell_type": "markdown",
   "metadata": {},
   "source": [
    "## **Practice Hyperparameter Tuning**"
   ]
  },
  {
   "cell_type": "markdown",
   "metadata": {},
   "source": [
    "## **Import libraries**"
   ]
  },
  {
   "cell_type": "code",
   "execution_count": 1,
   "metadata": {},
   "outputs": [],
   "source": [
    "import numpy as np \n",
    "import pandas as pd \n",
    "import matplotlib.pyplot as plt \n",
    "import seaborn as sns\n",
    "\n",
    "from sklearn.metrics import accuracy_score, mean_squared_error, mean_absolute_error\n",
    "from sklearn.model_selection import train_test_split\n",
    "\n",
    "import category_encoders as ce\n",
    "from sklearn.preprocessing import OneHotEncoder\n",
    "from sklearn.compose import ColumnTransformer\n",
    "from sklearn.pipeline import Pipeline\n",
    "from sklearn.impute import SimpleImputer\n",
    "from sklearn.experimental import enable_iterative_imputer\n",
    "from sklearn.impute import IterativeImputer\n",
    "\n",
    "from sklearn.linear_model import LinearRegression, Lasso, Ridge\n",
    "from sklearn.neighbors import KNeighborsRegressor\n",
    "from sklearn.tree import DecisionTreeRegressor\n",
    "from sklearn.model_selection import cross_val_score, StratifiedKFold\n",
    "from sklearn.preprocessing import StandardScaler, PolynomialFeatures, RobustScaler\n",
    "\n",
    "from sklearn.model_selection import GridSearchCV, RandomizedSearchCV\n",
    "\n",
    "import warnings\n",
    "warnings.filterwarnings('ignore')"
   ]
  },
  {
   "cell_type": "markdown",
   "metadata": {},
   "source": [
    "## **Load dataset**"
   ]
  },
  {
   "cell_type": "code",
   "execution_count": 2,
   "metadata": {},
   "outputs": [
    {
     "data": {
      "text/html": [
       "<div>\n",
       "<style scoped>\n",
       "    .dataframe tbody tr th:only-of-type {\n",
       "        vertical-align: middle;\n",
       "    }\n",
       "\n",
       "    .dataframe tbody tr th {\n",
       "        vertical-align: top;\n",
       "    }\n",
       "\n",
       "    .dataframe thead th {\n",
       "        text-align: right;\n",
       "    }\n",
       "</style>\n",
       "<table border=\"1\" class=\"dataframe\">\n",
       "  <thead>\n",
       "    <tr style=\"text-align: right;\">\n",
       "      <th></th>\n",
       "      <th>age</th>\n",
       "      <th>sex</th>\n",
       "      <th>bmi</th>\n",
       "      <th>children</th>\n",
       "      <th>smoker</th>\n",
       "      <th>region</th>\n",
       "      <th>charges</th>\n",
       "    </tr>\n",
       "  </thead>\n",
       "  <tbody>\n",
       "    <tr>\n",
       "      <th>0</th>\n",
       "      <td>19</td>\n",
       "      <td>female</td>\n",
       "      <td>27.900</td>\n",
       "      <td>0</td>\n",
       "      <td>yes</td>\n",
       "      <td>southwest</td>\n",
       "      <td>16884.92400</td>\n",
       "    </tr>\n",
       "    <tr>\n",
       "      <th>1</th>\n",
       "      <td>18</td>\n",
       "      <td>male</td>\n",
       "      <td>33.770</td>\n",
       "      <td>1</td>\n",
       "      <td>no</td>\n",
       "      <td>southeast</td>\n",
       "      <td>1725.55230</td>\n",
       "    </tr>\n",
       "    <tr>\n",
       "      <th>2</th>\n",
       "      <td>28</td>\n",
       "      <td>male</td>\n",
       "      <td>33.000</td>\n",
       "      <td>3</td>\n",
       "      <td>no</td>\n",
       "      <td>southeast</td>\n",
       "      <td>4449.46200</td>\n",
       "    </tr>\n",
       "    <tr>\n",
       "      <th>3</th>\n",
       "      <td>33</td>\n",
       "      <td>male</td>\n",
       "      <td>22.705</td>\n",
       "      <td>0</td>\n",
       "      <td>no</td>\n",
       "      <td>northwest</td>\n",
       "      <td>21984.47061</td>\n",
       "    </tr>\n",
       "    <tr>\n",
       "      <th>4</th>\n",
       "      <td>32</td>\n",
       "      <td>male</td>\n",
       "      <td>28.880</td>\n",
       "      <td>0</td>\n",
       "      <td>no</td>\n",
       "      <td>northwest</td>\n",
       "      <td>3866.85520</td>\n",
       "    </tr>\n",
       "    <tr>\n",
       "      <th>...</th>\n",
       "      <td>...</td>\n",
       "      <td>...</td>\n",
       "      <td>...</td>\n",
       "      <td>...</td>\n",
       "      <td>...</td>\n",
       "      <td>...</td>\n",
       "      <td>...</td>\n",
       "    </tr>\n",
       "    <tr>\n",
       "      <th>1333</th>\n",
       "      <td>50</td>\n",
       "      <td>male</td>\n",
       "      <td>30.970</td>\n",
       "      <td>3</td>\n",
       "      <td>no</td>\n",
       "      <td>northwest</td>\n",
       "      <td>10600.54830</td>\n",
       "    </tr>\n",
       "    <tr>\n",
       "      <th>1334</th>\n",
       "      <td>18</td>\n",
       "      <td>female</td>\n",
       "      <td>31.920</td>\n",
       "      <td>0</td>\n",
       "      <td>no</td>\n",
       "      <td>northeast</td>\n",
       "      <td>2205.98080</td>\n",
       "    </tr>\n",
       "    <tr>\n",
       "      <th>1335</th>\n",
       "      <td>18</td>\n",
       "      <td>female</td>\n",
       "      <td>36.850</td>\n",
       "      <td>0</td>\n",
       "      <td>no</td>\n",
       "      <td>southeast</td>\n",
       "      <td>1629.83350</td>\n",
       "    </tr>\n",
       "    <tr>\n",
       "      <th>1336</th>\n",
       "      <td>21</td>\n",
       "      <td>female</td>\n",
       "      <td>25.800</td>\n",
       "      <td>0</td>\n",
       "      <td>no</td>\n",
       "      <td>southwest</td>\n",
       "      <td>2007.94500</td>\n",
       "    </tr>\n",
       "    <tr>\n",
       "      <th>1337</th>\n",
       "      <td>61</td>\n",
       "      <td>female</td>\n",
       "      <td>29.070</td>\n",
       "      <td>0</td>\n",
       "      <td>yes</td>\n",
       "      <td>northwest</td>\n",
       "      <td>29141.36030</td>\n",
       "    </tr>\n",
       "  </tbody>\n",
       "</table>\n",
       "<p>1338 rows × 7 columns</p>\n",
       "</div>"
      ],
      "text/plain": [
       "      age     sex     bmi  children smoker     region      charges\n",
       "0      19  female  27.900         0    yes  southwest  16884.92400\n",
       "1      18    male  33.770         1     no  southeast   1725.55230\n",
       "2      28    male  33.000         3     no  southeast   4449.46200\n",
       "3      33    male  22.705         0     no  northwest  21984.47061\n",
       "4      32    male  28.880         0     no  northwest   3866.85520\n",
       "...   ...     ...     ...       ...    ...        ...          ...\n",
       "1333   50    male  30.970         3     no  northwest  10600.54830\n",
       "1334   18  female  31.920         0     no  northeast   2205.98080\n",
       "1335   18  female  36.850         0     no  southeast   1629.83350\n",
       "1336   21  female  25.800         0     no  southwest   2007.94500\n",
       "1337   61  female  29.070         0    yes  northwest  29141.36030\n",
       "\n",
       "[1338 rows x 7 columns]"
      ]
     },
     "execution_count": 2,
     "metadata": {},
     "output_type": "execute_result"
    }
   ],
   "source": [
    "df = pd.read_csv('insurance.csv')\n",
    "df"
   ]
  },
  {
   "cell_type": "markdown",
   "metadata": {},
   "source": [
    "### **Features Description**\n",
    "\n",
    "- age: age of primary beneficiary\n",
    "\n",
    "- sex: insurance contractor gender, female, male\n",
    "\n",
    "- bmi: Body mass index, providing an understanding of body, weights that are relatively high or low relative to height,\n",
    "objective index of body weight (kg / m ^ 2) using the ratio of height to weight, ideally 18.5 to 24.9\n",
    "\n",
    "- children: Number of children covered by health insurance / Number of dependents\n",
    "\n",
    "- smoker: Smoking\n",
    "\n",
    "- region: the beneficiary's residential area in the US, northeast, southeast, southwest, northwest.\n",
    "\n",
    "- charges: Individual medical costs billed by health insurance"
   ]
  },
  {
   "cell_type": "code",
   "execution_count": 3,
   "metadata": {},
   "outputs": [
    {
     "name": "stdout",
     "output_type": "stream",
     "text": [
      "<class 'pandas.core.frame.DataFrame'>\n",
      "RangeIndex: 1338 entries, 0 to 1337\n",
      "Data columns (total 7 columns):\n",
      " #   Column    Non-Null Count  Dtype  \n",
      "---  ------    --------------  -----  \n",
      " 0   age       1338 non-null   int64  \n",
      " 1   sex       1338 non-null   object \n",
      " 2   bmi       1338 non-null   float64\n",
      " 3   children  1338 non-null   int64  \n",
      " 4   smoker    1338 non-null   object \n",
      " 5   region    1338 non-null   object \n",
      " 6   charges   1338 non-null   float64\n",
      "dtypes: float64(2), int64(2), object(3)\n",
      "memory usage: 73.3+ KB\n"
     ]
    }
   ],
   "source": [
    "df.info()"
   ]
  },
  {
   "cell_type": "code",
   "execution_count": 4,
   "metadata": {},
   "outputs": [
    {
     "data": {
      "text/plain": [
       "age         0\n",
       "sex         0\n",
       "bmi         0\n",
       "children    0\n",
       "smoker      0\n",
       "region      0\n",
       "charges     0\n",
       "dtype: int64"
      ]
     },
     "execution_count": 4,
     "metadata": {},
     "output_type": "execute_result"
    }
   ],
   "source": [
    "df.isna().sum()"
   ]
  },
  {
   "cell_type": "code",
   "execution_count": 5,
   "metadata": {},
   "outputs": [
    {
     "data": {
      "text/html": [
       "<div>\n",
       "<style scoped>\n",
       "    .dataframe tbody tr th:only-of-type {\n",
       "        vertical-align: middle;\n",
       "    }\n",
       "\n",
       "    .dataframe tbody tr th {\n",
       "        vertical-align: top;\n",
       "    }\n",
       "\n",
       "    .dataframe thead th {\n",
       "        text-align: right;\n",
       "    }\n",
       "</style>\n",
       "<table border=\"1\" class=\"dataframe\">\n",
       "  <thead>\n",
       "    <tr style=\"text-align: right;\">\n",
       "      <th></th>\n",
       "      <th>age</th>\n",
       "      <th>bmi</th>\n",
       "      <th>children</th>\n",
       "      <th>charges</th>\n",
       "    </tr>\n",
       "  </thead>\n",
       "  <tbody>\n",
       "    <tr>\n",
       "      <th>count</th>\n",
       "      <td>1338.000000</td>\n",
       "      <td>1338.000000</td>\n",
       "      <td>1338.000000</td>\n",
       "      <td>1338.000000</td>\n",
       "    </tr>\n",
       "    <tr>\n",
       "      <th>mean</th>\n",
       "      <td>39.207025</td>\n",
       "      <td>30.663397</td>\n",
       "      <td>1.094918</td>\n",
       "      <td>13270.422265</td>\n",
       "    </tr>\n",
       "    <tr>\n",
       "      <th>std</th>\n",
       "      <td>14.049960</td>\n",
       "      <td>6.098187</td>\n",
       "      <td>1.205493</td>\n",
       "      <td>12110.011237</td>\n",
       "    </tr>\n",
       "    <tr>\n",
       "      <th>min</th>\n",
       "      <td>18.000000</td>\n",
       "      <td>15.960000</td>\n",
       "      <td>0.000000</td>\n",
       "      <td>1121.873900</td>\n",
       "    </tr>\n",
       "    <tr>\n",
       "      <th>25%</th>\n",
       "      <td>27.000000</td>\n",
       "      <td>26.296250</td>\n",
       "      <td>0.000000</td>\n",
       "      <td>4740.287150</td>\n",
       "    </tr>\n",
       "    <tr>\n",
       "      <th>50%</th>\n",
       "      <td>39.000000</td>\n",
       "      <td>30.400000</td>\n",
       "      <td>1.000000</td>\n",
       "      <td>9382.033000</td>\n",
       "    </tr>\n",
       "    <tr>\n",
       "      <th>75%</th>\n",
       "      <td>51.000000</td>\n",
       "      <td>34.693750</td>\n",
       "      <td>2.000000</td>\n",
       "      <td>16639.912515</td>\n",
       "    </tr>\n",
       "    <tr>\n",
       "      <th>max</th>\n",
       "      <td>64.000000</td>\n",
       "      <td>53.130000</td>\n",
       "      <td>5.000000</td>\n",
       "      <td>63770.428010</td>\n",
       "    </tr>\n",
       "  </tbody>\n",
       "</table>\n",
       "</div>"
      ],
      "text/plain": [
       "               age          bmi     children       charges\n",
       "count  1338.000000  1338.000000  1338.000000   1338.000000\n",
       "mean     39.207025    30.663397     1.094918  13270.422265\n",
       "std      14.049960     6.098187     1.205493  12110.011237\n",
       "min      18.000000    15.960000     0.000000   1121.873900\n",
       "25%      27.000000    26.296250     0.000000   4740.287150\n",
       "50%      39.000000    30.400000     1.000000   9382.033000\n",
       "75%      51.000000    34.693750     2.000000  16639.912515\n",
       "max      64.000000    53.130000     5.000000  63770.428010"
      ]
     },
     "execution_count": 5,
     "metadata": {},
     "output_type": "execute_result"
    }
   ],
   "source": [
    "df.describe()"
   ]
  },
  {
   "cell_type": "markdown",
   "metadata": {},
   "source": [
    "## **Simple EDA**"
   ]
  },
  {
   "cell_type": "code",
   "execution_count": 6,
   "metadata": {},
   "outputs": [
    {
     "data": {
      "text/plain": [
       "['sex', 'smoker', 'region']"
      ]
     },
     "execution_count": 6,
     "metadata": {},
     "output_type": "execute_result"
    }
   ],
   "source": [
    "cat_features = [feature for feature in df.columns if (df[feature].dtypes == 'O')]\n",
    "cat_features"
   ]
  },
  {
   "cell_type": "code",
   "execution_count": 7,
   "metadata": {},
   "outputs": [
    {
     "data": {
      "text/plain": [
       "['age', 'bmi', 'children']"
      ]
     },
     "execution_count": 7,
     "metadata": {},
     "output_type": "execute_result"
    }
   ],
   "source": [
    "num_features = [feature for feature in df.columns if ((df[feature].dtypes != 'O') & (feature not in ['charges']))]\n",
    "num_features"
   ]
  },
  {
   "cell_type": "code",
   "execution_count": 8,
   "metadata": {},
   "outputs": [
    {
     "name": "stdout",
     "output_type": "stream",
     "text": [
      "Total unique values in sex:  2\n",
      "Unique values:  ['female' 'male']\n",
      "\n",
      "Total unique values in smoker:  2\n",
      "Unique values:  ['yes' 'no']\n",
      "\n",
      "Total unique values in region:  4\n",
      "Unique values:  ['southwest' 'southeast' 'northwest' 'northeast']\n",
      "\n"
     ]
    }
   ],
   "source": [
    "for i in cat_features:\n",
    "    print(f'Total unique values in {i}: ', df[i].nunique())\n",
    "    print(f'Unique values: ', df[i].unique())\n",
    "    print()"
   ]
  },
  {
   "cell_type": "code",
   "execution_count": 9,
   "metadata": {},
   "outputs": [
    {
     "data": {
      "text/plain": [
       "age         0.299008\n",
       "bmi         0.198341\n",
       "children    0.067998\n",
       "charges     1.000000\n",
       "Name: charges, dtype: float64"
      ]
     },
     "execution_count": 9,
     "metadata": {},
     "output_type": "execute_result"
    }
   ],
   "source": [
    "df.corr()['charges']"
   ]
  },
  {
   "cell_type": "code",
   "execution_count": 10,
   "metadata": {},
   "outputs": [
    {
     "data": {
      "image/png": "[encoded data removed]",
      "text/plain": [
       "<Figure size 432x288 with 1 Axes>"
      ]
     },
     "metadata": {},
     "output_type": "display_data"
    }
   ],
   "source": [
    "sns.set(style='whitegrid', palette='Set3')\n",
    "sns.boxplot(x='charges', data=df);"
   ]
  },
  {
   "cell_type": "markdown",
   "metadata": {},
   "source": [
    "### **Plot of categorical features**"
   ]
  },
  {
   "cell_type": "code",
   "execution_count": 12,
   "metadata": {},
   "outputs": [
    {
     "data": {
      "image/png": "[encoded data removed]",
      "text/plain": [
       "<Figure size 1080x720 with 3 Axes>"
      ]
     },
     "metadata": {},
     "output_type": "display_data"
    }
   ],
   "source": [
    "plt.figure(figsize=(15, 10), facecolor='white')\n",
    "sns.set(style='whitegrid', palette='Set3')\n",
    "plotnumber = 1\n",
    "\n",
    "for feature in cat_features:\n",
    "    ax = plt.subplot(2, 2, plotnumber)\n",
    "    sns.barplot(x = 'charges', y = feature, data = df)\n",
    "    plt.xlabel('charges')\n",
    "    plt.title(feature)\n",
    "    plotnumber += 1\n",
    "    plt.tight_layout()"
   ]
  },
  {
   "cell_type": "markdown",
   "metadata": {},
   "source": [
    "### **Plot of numerical features**"
   ]
  },
  {
   "cell_type": "code",
   "execution_count": 14,
   "metadata": {},
   "outputs": [
    {
     "data": {
      "image/png": "[encoded data removed]",
      "text/plain": [
       "<Figure size 1080x720 with 3 Axes>"
      ]
     },
     "metadata": {},
     "output_type": "display_data"
    }
   ],
   "source": [
    "plt.figure(figsize=(15, 10), facecolor='white')\n",
    "sns.set(style='whitegrid', palette='Set3')\n",
    "plotnumber = 1\n",
    "\n",
    "for feature in num_features:\n",
    "    ax = plt.subplot(2, 2, plotnumber)\n",
    "    sns.scatterplot(x = 'charges', y = feature, data = df)\n",
    "    plt.xlabel('charges')\n",
    "    plt.title(feature)\n",
    "    plotnumber += 1\n",
    "    plt.tight_layout()"
   ]
  },
  {
   "cell_type": "markdown",
   "metadata": {},
   "source": [
    "## **Data Splitting**"
   ]
  },
  {
   "cell_type": "code",
   "execution_count": 15,
   "metadata": {},
   "outputs": [],
   "source": [
    "# Define X and y\n",
    "X = df.drop(columns='charges')\n",
    "y = df['charges']"
   ]
  },
  {
   "cell_type": "code",
   "execution_count": 16,
   "metadata": {},
   "outputs": [],
   "source": [
    "# Split\n",
    "X_train, X_test, y_train, y_test = train_test_split(\n",
    "    X, \n",
    "    y,\n",
    "    test_size=0.2,\n",
    "    random_state=0\n",
    ")"
   ]
  },
  {
   "cell_type": "markdown",
   "metadata": {},
   "source": [
    "## **Data Pre-processing**"
   ]
  },
  {
   "cell_type": "code",
   "execution_count": 17,
   "metadata": {},
   "outputs": [],
   "source": [
    "transformer = ColumnTransformer([\n",
    "    ('one hot', OneHotEncoder(drop='first'), ['sex', 'smoker', 'region']),\n",
    "    ('scaler', RobustScaler(), ['age', 'bmi', 'children'])\n",
    "], remainder='passthrough')"
   ]
  },
  {
   "cell_type": "code",
   "execution_count": 18,
   "metadata": {},
   "outputs": [],
   "source": [
    "X_train_preprocessed = transformer.fit_transform(X_train)\n",
    "X_test_preprocessed = transformer.transform(X_test)"
   ]
  },
  {
   "cell_type": "markdown",
   "metadata": {},
   "source": [
    "## **Model benchmark**"
   ]
  },
  {
   "cell_type": "code",
   "execution_count": 19,
   "metadata": {},
   "outputs": [],
   "source": [
    "# Define the models\n",
    "linreg = LinearRegression(fit_intercept=True)\n",
    "knn = KNeighborsRegressor(n_neighbors=5)\n",
    "tree = DecisionTreeRegressor(criterion='mae', max_depth=5, random_state=0)"
   ]
  },
  {
   "cell_type": "code",
   "execution_count": 20,
   "metadata": {},
   "outputs": [
    {
     "data": {
      "text/plain": [
       "dict_keys(['explained_variance', 'r2', 'max_error', 'neg_median_absolute_error', 'neg_mean_absolute_error', 'neg_mean_absolute_percentage_error', 'neg_mean_squared_error', 'neg_mean_squared_log_error', 'neg_root_mean_squared_error', 'neg_mean_poisson_deviance', 'neg_mean_gamma_deviance', 'accuracy', 'top_k_accuracy', 'roc_auc', 'roc_auc_ovr', 'roc_auc_ovo', 'roc_auc_ovr_weighted', 'roc_auc_ovo_weighted', 'balanced_accuracy', 'average_precision', 'neg_log_loss', 'neg_brier_score', 'adjusted_rand_score', 'rand_score', 'homogeneity_score', 'completeness_score', 'v_measure_score', 'mutual_info_score', 'adjusted_mutual_info_score', 'normalized_mutual_info_score', 'fowlkes_mallows_score', 'precision', 'precision_macro', 'precision_micro', 'precision_samples', 'precision_weighted', 'recall', 'recall_macro', 'recall_micro', 'recall_samples', 'recall_weighted', 'f1', 'f1_macro', 'f1_micro', 'f1_samples', 'f1_weighted', 'jaccard', 'jaccard_macro', 'jaccard_micro', 'jaccard_samples', 'jaccard_weighted'])"
      ]
     },
     "execution_count": 20,
     "metadata": {},
     "output_type": "execute_result"
    }
   ],
   "source": [
    "from sklearn import metrics\n",
    "metrics.SCORERS.keys()"
   ]
  },
  {
   "cell_type": "code",
   "execution_count": 21,
   "metadata": {},
   "outputs": [],
   "source": [
    "models = [linreg, knn, tree]\n",
    "nilai_mean = []\n",
    "nilai_std = []\n",
    "\n",
    "for i in models:\n",
    "    model_cv = cross_val_score(i, X_train_preprocessed, y_train, scoring = 'neg_mean_absolute_error')\n",
    "    nilai_mean.append(model_cv.mean())\n",
    "    nilai_std.append(model_cv.std())"
   ]
  },
  {
   "cell_type": "code",
   "execution_count": 22,
   "metadata": {},
   "outputs": [
    {
     "data": {
      "text/html": [
       "<div>\n",
       "<style scoped>\n",
       "    .dataframe tbody tr th:only-of-type {\n",
       "        vertical-align: middle;\n",
       "    }\n",
       "\n",
       "    .dataframe tbody tr th {\n",
       "        vertical-align: top;\n",
       "    }\n",
       "\n",
       "    .dataframe thead th {\n",
       "        text-align: right;\n",
       "    }\n",
       "</style>\n",
       "<table border=\"1\" class=\"dataframe\">\n",
       "  <thead>\n",
       "    <tr style=\"text-align: right;\">\n",
       "      <th></th>\n",
       "      <th>model</th>\n",
       "      <th>mean</th>\n",
       "      <th>std</th>\n",
       "    </tr>\n",
       "  </thead>\n",
       "  <tbody>\n",
       "    <tr>\n",
       "      <th>0</th>\n",
       "      <td>Linear Regression</td>\n",
       "      <td>-4275.591651</td>\n",
       "      <td>276.448853</td>\n",
       "    </tr>\n",
       "    <tr>\n",
       "      <th>1</th>\n",
       "      <td>KNN Regressor</td>\n",
       "      <td>-3756.108785</td>\n",
       "      <td>409.944548</td>\n",
       "    </tr>\n",
       "    <tr>\n",
       "      <th>2</th>\n",
       "      <td>Decision Tree Regressor</td>\n",
       "      <td>-2140.367028</td>\n",
       "      <td>298.210629</td>\n",
       "    </tr>\n",
       "  </tbody>\n",
       "</table>\n",
       "</div>"
      ],
      "text/plain": [
       "                     model         mean         std\n",
       "0        Linear Regression -4275.591651  276.448853\n",
       "1            KNN Regressor -3756.108785  409.944548\n",
       "2  Decision Tree Regressor -2140.367028  298.210629"
      ]
     },
     "execution_count": 22,
     "metadata": {},
     "output_type": "execute_result"
    }
   ],
   "source": [
    "pd.DataFrame({\n",
    "    'model':['Linear Regression', 'KNN Regressor', 'Decision Tree Regressor'],\n",
    "    'mean': nilai_mean,\n",
    "    'std': nilai_std\n",
    "})"
   ]
  },
  {
   "cell_type": "markdown",
   "metadata": {},
   "source": [
    "### **Interpretation**\n",
    "\n",
    "Of the three models tested, it turns out that the decision tree regressor model produces the smallest error, with a significant difference. Henceforth, only the decision tree regressor model will be tested in the test set and tuning is also carried out."
   ]
  },
  {
   "cell_type": "markdown",
   "metadata": {},
   "source": [
    "## **Model performance in test set**"
   ]
  },
  {
   "cell_type": "code",
   "execution_count": 23,
   "metadata": {},
   "outputs": [
    {
     "data": {
      "text/plain": [
       "Pipeline(steps=[('preprocess',\n",
       "                 ColumnTransformer(remainder='passthrough',\n",
       "                                   transformers=[('one hot',\n",
       "                                                  OneHotEncoder(drop='first'),\n",
       "                                                  ['sex', 'smoker', 'region']),\n",
       "                                                 ('scaler', RobustScaler(),\n",
       "                                                  ['age', 'bmi',\n",
       "                                                   'children'])])),\n",
       "                ('model',\n",
       "                 DecisionTreeRegressor(criterion='mae', max_depth=5,\n",
       "                                       random_state=0))])"
      ]
     },
     "execution_count": 23,
     "metadata": {},
     "output_type": "execute_result"
    }
   ],
   "source": [
    "estimator= Pipeline([\n",
    "    ('preprocess', transformer),\n",
    "    ('model', tree)\n",
    "])\n",
    "estimator.fit(X_train, y_train)"
   ]
  },
  {
   "cell_type": "code",
   "execution_count": 24,
   "metadata": {},
   "outputs": [],
   "source": [
    "y_pred = estimator.predict(X_test)"
   ]
  },
  {
   "cell_type": "code",
   "execution_count": 25,
   "metadata": {},
   "outputs": [
    {
     "name": "stdout",
     "output_type": "stream",
     "text": [
      "MSE: 24249019.226462997\n",
      "RMSE: 4924.329317426181\n",
      "MAE: 1985.4698345485076\n"
     ]
    }
   ],
   "source": [
    "mse = mean_squared_error(y_test, y_pred)\n",
    "rmse = np.sqrt(mse)\n",
    "mae = mean_absolute_error(y_test, y_pred)\n",
    "\n",
    "print('MSE:', mse)\n",
    "print('RMSE:', rmse)\n",
    "print('MAE:', mae)"
   ]
  },
  {
   "cell_type": "markdown",
   "metadata": {},
   "source": [
    "## **Hyperparameter Tuning**"
   ]
  },
  {
   "cell_type": "code",
   "execution_count": 26,
   "metadata": {},
   "outputs": [],
   "source": [
    "hyperparam_space= {\n",
    "    'min_samples_leaf':[1, 5, 10, 15, 20, 50], # benchmark 1\n",
    "    'max_depth':[2, 3, 4, 5, 6, 7], # benchmark 5\n",
    "    'criterion':['mse', 'mae'] # benchmark mae\n",
    "}"
   ]
  },
  {
   "cell_type": "code",
   "execution_count": 27,
   "metadata": {},
   "outputs": [],
   "source": [
    "tree = DecisionTreeRegressor(criterion='mae', max_depth=5, random_state=0)\n",
    "\n",
    "grid_search = GridSearchCV(\n",
    "    tree, # model to tune\n",
    "    param_grid = hyperparam_space, # hyperparam space\n",
    "    scoring = 'neg_mean_absolute_error', # metric\n",
    "    n_jobs= -1\n",
    ")"
   ]
  },
  {
   "cell_type": "code",
   "execution_count": 28,
   "metadata": {},
   "outputs": [
    {
     "data": {
      "text/plain": [
       "GridSearchCV(estimator=DecisionTreeRegressor(criterion='mae', max_depth=5,\n",
       "                                             random_state=0),\n",
       "             n_jobs=-1,\n",
       "             param_grid={'criterion': ['mse', 'mae'],\n",
       "                         'max_depth': [2, 3, 4, 5, 6, 7],\n",
       "                         'min_samples_leaf': [1, 5, 10, 15, 20, 50]},\n",
       "             scoring='neg_mean_absolute_error')"
      ]
     },
     "execution_count": 28,
     "metadata": {},
     "output_type": "execute_result"
    }
   ],
   "source": [
    "grid_search.fit(X_train_preprocessed, y_train)"
   ]
  },
  {
   "cell_type": "code",
   "execution_count": 29,
   "metadata": {},
   "outputs": [
    {
     "name": "stdout",
     "output_type": "stream",
     "text": [
      "-1939.4536536028038\n",
      "{'criterion': 'mae', 'max_depth': 6, 'min_samples_leaf': 5}\n"
     ]
    }
   ],
   "source": [
    "print(grid_search.best_score_)\n",
    "print(grid_search.best_params_)"
   ]
  },
  {
   "cell_type": "code",
   "execution_count": 30,
   "metadata": {},
   "outputs": [
    {
     "data": {
      "text/html": [
       "<div>\n",
       "<style scoped>\n",
       "    .dataframe tbody tr th:only-of-type {\n",
       "        vertical-align: middle;\n",
       "    }\n",
       "\n",
       "    .dataframe tbody tr th {\n",
       "        vertical-align: top;\n",
       "    }\n",
       "\n",
       "    .dataframe thead th {\n",
       "        text-align: right;\n",
       "    }\n",
       "</style>\n",
       "<table border=\"1\" class=\"dataframe\">\n",
       "  <thead>\n",
       "    <tr style=\"text-align: right;\">\n",
       "      <th></th>\n",
       "      <th>mean_fit_time</th>\n",
       "      <th>std_fit_time</th>\n",
       "      <th>mean_score_time</th>\n",
       "      <th>std_score_time</th>\n",
       "      <th>param_criterion</th>\n",
       "      <th>param_max_depth</th>\n",
       "      <th>param_min_samples_leaf</th>\n",
       "      <th>params</th>\n",
       "      <th>split0_test_score</th>\n",
       "      <th>split1_test_score</th>\n",
       "      <th>split2_test_score</th>\n",
       "      <th>split3_test_score</th>\n",
       "      <th>split4_test_score</th>\n",
       "      <th>mean_test_score</th>\n",
       "      <th>std_test_score</th>\n",
       "      <th>rank_test_score</th>\n",
       "    </tr>\n",
       "  </thead>\n",
       "  <tbody>\n",
       "    <tr>\n",
       "      <th>0</th>\n",
       "      <td>0.007036</td>\n",
       "      <td>0.003093</td>\n",
       "      <td>0.001809</td>\n",
       "      <td>0.000841</td>\n",
       "      <td>mse</td>\n",
       "      <td>2</td>\n",
       "      <td>1</td>\n",
       "      <td>{'criterion': 'mse', 'max_depth': 2, 'min_samp...</td>\n",
       "      <td>-3356.364053</td>\n",
       "      <td>-3188.168339</td>\n",
       "      <td>-3457.979143</td>\n",
       "      <td>-3190.628399</td>\n",
       "      <td>-3843.602398</td>\n",
       "      <td>-3407.348467</td>\n",
       "      <td>241.034390</td>\n",
       "      <td>67</td>\n",
       "    </tr>\n",
       "    <tr>\n",
       "      <th>1</th>\n",
       "      <td>0.007825</td>\n",
       "      <td>0.001750</td>\n",
       "      <td>0.000603</td>\n",
       "      <td>0.001206</td>\n",
       "      <td>mse</td>\n",
       "      <td>2</td>\n",
       "      <td>5</td>\n",
       "      <td>{'criterion': 'mse', 'max_depth': 2, 'min_samp...</td>\n",
       "      <td>-3356.364053</td>\n",
       "      <td>-3188.168339</td>\n",
       "      <td>-3457.979143</td>\n",
       "      <td>-3190.628399</td>\n",
       "      <td>-3843.602398</td>\n",
       "      <td>-3407.348467</td>\n",
       "      <td>241.034390</td>\n",
       "      <td>67</td>\n",
       "    </tr>\n",
       "    <tr>\n",
       "      <th>2</th>\n",
       "      <td>0.007050</td>\n",
       "      <td>0.002320</td>\n",
       "      <td>0.001456</td>\n",
       "      <td>0.000841</td>\n",
       "      <td>mse</td>\n",
       "      <td>2</td>\n",
       "      <td>10</td>\n",
       "      <td>{'criterion': 'mse', 'max_depth': 2, 'min_samp...</td>\n",
       "      <td>-3356.364053</td>\n",
       "      <td>-3188.168339</td>\n",
       "      <td>-3457.979143</td>\n",
       "      <td>-3190.628399</td>\n",
       "      <td>-3843.602398</td>\n",
       "      <td>-3407.348467</td>\n",
       "      <td>241.034390</td>\n",
       "      <td>67</td>\n",
       "    </tr>\n",
       "    <tr>\n",
       "      <th>3</th>\n",
       "      <td>0.005291</td>\n",
       "      <td>0.001493</td>\n",
       "      <td>0.000990</td>\n",
       "      <td>0.000685</td>\n",
       "      <td>mse</td>\n",
       "      <td>2</td>\n",
       "      <td>15</td>\n",
       "      <td>{'criterion': 'mse', 'max_depth': 2, 'min_samp...</td>\n",
       "      <td>-3356.364053</td>\n",
       "      <td>-3188.168339</td>\n",
       "      <td>-3457.979143</td>\n",
       "      <td>-3190.628399</td>\n",
       "      <td>-3843.602398</td>\n",
       "      <td>-3407.348467</td>\n",
       "      <td>241.034390</td>\n",
       "      <td>67</td>\n",
       "    </tr>\n",
       "    <tr>\n",
       "      <th>4</th>\n",
       "      <td>0.003305</td>\n",
       "      <td>0.001740</td>\n",
       "      <td>0.002134</td>\n",
       "      <td>0.002295</td>\n",
       "      <td>mse</td>\n",
       "      <td>2</td>\n",
       "      <td>20</td>\n",
       "      <td>{'criterion': 'mse', 'max_depth': 2, 'min_samp...</td>\n",
       "      <td>-3356.364053</td>\n",
       "      <td>-3188.168339</td>\n",
       "      <td>-3457.979143</td>\n",
       "      <td>-3190.628399</td>\n",
       "      <td>-3843.602398</td>\n",
       "      <td>-3407.348467</td>\n",
       "      <td>241.034390</td>\n",
       "      <td>67</td>\n",
       "    </tr>\n",
       "    <tr>\n",
       "      <th>...</th>\n",
       "      <td>...</td>\n",
       "      <td>...</td>\n",
       "      <td>...</td>\n",
       "      <td>...</td>\n",
       "      <td>...</td>\n",
       "      <td>...</td>\n",
       "      <td>...</td>\n",
       "      <td>...</td>\n",
       "      <td>...</td>\n",
       "      <td>...</td>\n",
       "      <td>...</td>\n",
       "      <td>...</td>\n",
       "      <td>...</td>\n",
       "      <td>...</td>\n",
       "      <td>...</td>\n",
       "      <td>...</td>\n",
       "    </tr>\n",
       "    <tr>\n",
       "      <th>67</th>\n",
       "      <td>0.056161</td>\n",
       "      <td>0.004368</td>\n",
       "      <td>0.001521</td>\n",
       "      <td>0.001916</td>\n",
       "      <td>mae</td>\n",
       "      <td>7</td>\n",
       "      <td>5</td>\n",
       "      <td>{'criterion': 'mae', 'max_depth': 7, 'min_samp...</td>\n",
       "      <td>-1864.961894</td>\n",
       "      <td>-1605.538089</td>\n",
       "      <td>-1886.771645</td>\n",
       "      <td>-1878.334412</td>\n",
       "      <td>-2521.859691</td>\n",
       "      <td>-1951.493146</td>\n",
       "      <td>303.984088</td>\n",
       "      <td>2</td>\n",
       "    </tr>\n",
       "    <tr>\n",
       "      <th>68</th>\n",
       "      <td>0.049400</td>\n",
       "      <td>0.002559</td>\n",
       "      <td>0.002677</td>\n",
       "      <td>0.002654</td>\n",
       "      <td>mae</td>\n",
       "      <td>7</td>\n",
       "      <td>10</td>\n",
       "      <td>{'criterion': 'mae', 'max_depth': 7, 'min_samp...</td>\n",
       "      <td>-1838.377226</td>\n",
       "      <td>-1693.533349</td>\n",
       "      <td>-1824.945265</td>\n",
       "      <td>-1890.404402</td>\n",
       "      <td>-2525.466208</td>\n",
       "      <td>-1954.545290</td>\n",
       "      <td>292.739873</td>\n",
       "      <td>3</td>\n",
       "    </tr>\n",
       "    <tr>\n",
       "      <th>69</th>\n",
       "      <td>0.048572</td>\n",
       "      <td>0.004632</td>\n",
       "      <td>0.001414</td>\n",
       "      <td>0.001508</td>\n",
       "      <td>mae</td>\n",
       "      <td>7</td>\n",
       "      <td>15</td>\n",
       "      <td>{'criterion': 'mae', 'max_depth': 7, 'min_samp...</td>\n",
       "      <td>-1836.121452</td>\n",
       "      <td>-1752.811728</td>\n",
       "      <td>-1918.411131</td>\n",
       "      <td>-2002.681131</td>\n",
       "      <td>-2599.106583</td>\n",
       "      <td>-2021.826405</td>\n",
       "      <td>300.389377</td>\n",
       "      <td>5</td>\n",
       "    </tr>\n",
       "    <tr>\n",
       "      <th>70</th>\n",
       "      <td>0.045715</td>\n",
       "      <td>0.002668</td>\n",
       "      <td>0.001223</td>\n",
       "      <td>0.000930</td>\n",
       "      <td>mae</td>\n",
       "      <td>7</td>\n",
       "      <td>20</td>\n",
       "      <td>{'criterion': 'mae', 'max_depth': 7, 'min_samp...</td>\n",
       "      <td>-1932.191237</td>\n",
       "      <td>-1806.718080</td>\n",
       "      <td>-1957.108446</td>\n",
       "      <td>-2067.890371</td>\n",
       "      <td>-2679.904188</td>\n",
       "      <td>-2088.762464</td>\n",
       "      <td>307.011578</td>\n",
       "      <td>9</td>\n",
       "    </tr>\n",
       "    <tr>\n",
       "      <th>71</th>\n",
       "      <td>0.037851</td>\n",
       "      <td>0.002080</td>\n",
       "      <td>0.000639</td>\n",
       "      <td>0.000526</td>\n",
       "      <td>mae</td>\n",
       "      <td>7</td>\n",
       "      <td>50</td>\n",
       "      <td>{'criterion': 'mae', 'max_depth': 7, 'min_samp...</td>\n",
       "      <td>-2372.015354</td>\n",
       "      <td>-2183.307910</td>\n",
       "      <td>-2493.521909</td>\n",
       "      <td>-2392.385634</td>\n",
       "      <td>-3136.382280</td>\n",
       "      <td>-2515.522617</td>\n",
       "      <td>326.212941</td>\n",
       "      <td>21</td>\n",
       "    </tr>\n",
       "  </tbody>\n",
       "</table>\n",
       "<p>72 rows × 16 columns</p>\n",
       "</div>"
      ],
      "text/plain": [
       "    mean_fit_time  std_fit_time  mean_score_time  std_score_time  \\\n",
       "0        0.007036      0.003093         0.001809        0.000841   \n",
       "1        0.007825      0.001750         0.000603        0.001206   \n",
       "2        0.007050      0.002320         0.001456        0.000841   \n",
       "3        0.005291      0.001493         0.000990        0.000685   \n",
       "4        0.003305      0.001740         0.002134        0.002295   \n",
       "..            ...           ...              ...             ...   \n",
       "67       0.056161      0.004368         0.001521        0.001916   \n",
       "68       0.049400      0.002559         0.002677        0.002654   \n",
       "69       0.048572      0.004632         0.001414        0.001508   \n",
       "70       0.045715      0.002668         0.001223        0.000930   \n",
       "71       0.037851      0.002080         0.000639        0.000526   \n",
       "\n",
       "   param_criterion param_max_depth param_min_samples_leaf  \\\n",
       "0              mse               2                      1   \n",
       "1              mse               2                      5   \n",
       "2              mse               2                     10   \n",
       "3              mse               2                     15   \n",
       "4              mse               2                     20   \n",
       "..             ...             ...                    ...   \n",
       "67             mae               7                      5   \n",
       "68             mae               7                     10   \n",
       "69             mae               7                     15   \n",
       "70             mae               7                     20   \n",
       "71             mae               7                     50   \n",
       "\n",
       "                                               params  split0_test_score  \\\n",
       "0   {'criterion': 'mse', 'max_depth': 2, 'min_samp...       -3356.364053   \n",
       "1   {'criterion': 'mse', 'max_depth': 2, 'min_samp...       -3356.364053   \n",
       "2   {'criterion': 'mse', 'max_depth': 2, 'min_samp...       -3356.364053   \n",
       "3   {'criterion': 'mse', 'max_depth': 2, 'min_samp...       -3356.364053   \n",
       "4   {'criterion': 'mse', 'max_depth': 2, 'min_samp...       -3356.364053   \n",
       "..                                                ...                ...   \n",
       "67  {'criterion': 'mae', 'max_depth': 7, 'min_samp...       -1864.961894   \n",
       "68  {'criterion': 'mae', 'max_depth': 7, 'min_samp...       -1838.377226   \n",
       "69  {'criterion': 'mae', 'max_depth': 7, 'min_samp...       -1836.121452   \n",
       "70  {'criterion': 'mae', 'max_depth': 7, 'min_samp...       -1932.191237   \n",
       "71  {'criterion': 'mae', 'max_depth': 7, 'min_samp...       -2372.015354   \n",
       "\n",
       "    split1_test_score  split2_test_score  split3_test_score  \\\n",
       "0        -3188.168339       -3457.979143       -3190.628399   \n",
       "1        -3188.168339       -3457.979143       -3190.628399   \n",
       "2        -3188.168339       -3457.979143       -3190.628399   \n",
       "3        -3188.168339       -3457.979143       -3190.628399   \n",
       "4        -3188.168339       -3457.979143       -3190.628399   \n",
       "..                ...                ...                ...   \n",
       "67       -1605.538089       -1886.771645       -1878.334412   \n",
       "68       -1693.533349       -1824.945265       -1890.404402   \n",
       "69       -1752.811728       -1918.411131       -2002.681131   \n",
       "70       -1806.718080       -1957.108446       -2067.890371   \n",
       "71       -2183.307910       -2493.521909       -2392.385634   \n",
       "\n",
       "    split4_test_score  mean_test_score  std_test_score  rank_test_score  \n",
       "0        -3843.602398     -3407.348467      241.034390               67  \n",
       "1        -3843.602398     -3407.348467      241.034390               67  \n",
       "2        -3843.602398     -3407.348467      241.034390               67  \n",
       "3        -3843.602398     -3407.348467      241.034390               67  \n",
       "4        -3843.602398     -3407.348467      241.034390               67  \n",
       "..                ...              ...             ...              ...  \n",
       "67       -2521.859691     -1951.493146      303.984088                2  \n",
       "68       -2525.466208     -1954.545290      292.739873                3  \n",
       "69       -2599.106583     -2021.826405      300.389377                5  \n",
       "70       -2679.904188     -2088.762464      307.011578                9  \n",
       "71       -3136.382280     -2515.522617      326.212941               21  \n",
       "\n",
       "[72 rows x 16 columns]"
      ]
     },
     "execution_count": 30,
     "metadata": {},
     "output_type": "execute_result"
    }
   ],
   "source": [
    "pd.DataFrame(grid_search.cv_results_)"
   ]
  },
  {
   "cell_type": "markdown",
   "metadata": {},
   "source": [
    "## **Comparison of before and after tuning**"
   ]
  },
  {
   "cell_type": "code",
   "execution_count": 31,
   "metadata": {},
   "outputs": [
    {
     "data": {
      "text/plain": [
       "DecisionTreeRegressor(criterion='mae', max_depth=6, min_samples_leaf=5,\n",
       "                      random_state=0)"
      ]
     },
     "execution_count": 31,
     "metadata": {},
     "output_type": "execute_result"
    }
   ],
   "source": [
    "best_model = grid_search.best_estimator_\n",
    "best_model.fit(X_train_preprocessed, y_train)"
   ]
  },
  {
   "cell_type": "code",
   "execution_count": 32,
   "metadata": {},
   "outputs": [],
   "source": [
    "y_pred_best = best_model.predict(X_test_preprocessed)"
   ]
  },
  {
   "cell_type": "code",
   "execution_count": 33,
   "metadata": {},
   "outputs": [
    {
     "name": "stdout",
     "output_type": "stream",
     "text": [
      "MSE: 16994102.233397037\n",
      "RMSE: 4122.390354320783\n",
      "MAE: 1678.1435176455223\n"
     ]
    }
   ],
   "source": [
    "mse_best = mean_squared_error(y_test, y_pred_best)\n",
    "rmse_best = np.sqrt(mse_best)\n",
    "mae_best = mean_absolute_error(y_test, y_pred_best)\n",
    "\n",
    "print('MSE:', mse_best)\n",
    "print('RMSE:', rmse_best)\n",
    "print('MAE:', mae_best)"
   ]
  },
  {
   "cell_type": "code",
   "execution_count": 34,
   "metadata": {},
   "outputs": [
    {
     "data": {
      "text/html": [
       "<div>\n",
       "<style scoped>\n",
       "    .dataframe tbody tr th:only-of-type {\n",
       "        vertical-align: middle;\n",
       "    }\n",
       "\n",
       "    .dataframe tbody tr th {\n",
       "        vertical-align: top;\n",
       "    }\n",
       "\n",
       "    .dataframe thead th {\n",
       "        text-align: right;\n",
       "    }\n",
       "</style>\n",
       "<table border=\"1\" class=\"dataframe\">\n",
       "  <thead>\n",
       "    <tr style=\"text-align: right;\">\n",
       "      <th></th>\n",
       "      <th>Model</th>\n",
       "      <th>RMSE before tuning</th>\n",
       "      <th>MAE before tuning</th>\n",
       "      <th>RMSE after tuning</th>\n",
       "      <th>MAE after tuning</th>\n",
       "    </tr>\n",
       "  </thead>\n",
       "  <tbody>\n",
       "    <tr>\n",
       "      <th>0</th>\n",
       "      <td>Decision Tree Regressor</td>\n",
       "      <td>4924.329317</td>\n",
       "      <td>1985.469835</td>\n",
       "      <td>4122.390354</td>\n",
       "      <td>1678.143518</td>\n",
       "    </tr>\n",
       "  </tbody>\n",
       "</table>\n",
       "</div>"
      ],
      "text/plain": [
       "                     Model  RMSE before tuning  MAE before tuning  \\\n",
       "0  Decision Tree Regressor         4924.329317        1985.469835   \n",
       "\n",
       "   RMSE after tuning  MAE after tuning  \n",
       "0        4122.390354       1678.143518  "
      ]
     },
     "execution_count": 34,
     "metadata": {},
     "output_type": "execute_result"
    }
   ],
   "source": [
    "pd.DataFrame({\n",
    "    'Model':['Decision Tree Regressor'],\n",
    "    'RMSE before tuning': rmse,\n",
    "    'MAE before tuning': mae,\n",
    "    'RMSE after tuning': rmse_best,\n",
    "    'MAE after tuning': mae_best\n",
    "})"
   ]
  },
  {
   "cell_type": "markdown",
   "metadata": {},
   "source": [
    "## **Interpretation**\n",
    "\n",
    "From the table above, it can be seen that the performance of the model increased after hyperparameter tuning was performed using only a few hyperparameters (RMSE and MAE values ​​were smaller after tuning)."
   ]
  }
 ],
 "metadata": {
  "interpreter": {
   "hash": "3d72cc5bd2f32e864ec0df420779aef0184c22840f6350688eccba15806935a9"
  },
  "kernelspec": {
   "display_name": "Python 3.8.8 64-bit ('base': conda)",
   "name": "python3"
  },
  "language_info": {
   "codemirror_mode": {
    "name": "ipython",
    "version": 3
   },
   "file_extension": ".py",
   "mimetype": "text/x-python",
   "name": "python",
   "nbconvert_exporter": "python",
   "pygments_lexer": "ipython3",
   "version": "3.8.8"
  },
  "orig_nbformat": 4
 },
 "nbformat": 4,
 "nbformat_minor": 2
}
